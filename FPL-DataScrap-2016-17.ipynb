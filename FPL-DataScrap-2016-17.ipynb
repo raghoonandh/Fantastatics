{
 "cells": [
  {
   "cell_type": "code",
   "execution_count": 102,
   "metadata": {
    "collapsed": true
   },
   "outputs": [],
   "source": [
    "# Importing the dependant Libraries and setting system encoding\n",
    "import requests\n",
    "import pandas as pd\n",
    "import sys\n",
    "reload(sys)\n",
    "sys.setdefaultencoding('utf8')"
   ]
  },
  {
   "cell_type": "code",
   "execution_count": 140,
   "metadata": {
    "collapsed": true
   },
   "outputs": [],
   "source": [
    "# Getting Player info\n",
    "url = 'https://fantasy.premierleague.com/drf/bootstrap-static'\n",
    "r = requests.get(url)\n",
    "rawglobal = r.json()\n",
    "playerinfo = rawglobal['elements']\n",
    "dfplaya = pd.DataFrame()\n",
    "for info in playerinfo:\n",
    "    playerdict = info\n",
    "    dfcurr = dict_to_df(playerdict)\n",
    "    dfplaya = pd.concat([dfplaya, dfcurr], axis=0)"
   ]
  },
  {
   "cell_type": "code",
   "execution_count": null,
   "metadata": {
    "collapsed": true
   },
   "outputs": [],
   "source": [
    "# Getting Playerdata\n",
    "df = pd.DataFrame()\n",
    "for i in range(683):\n",
    "    url = 'https://fantasy.premierleague.com/drf/element-summary/' + str(playerid+i)\n",
    "    r = requests.get(url)\n",
    "    rawdata = r.json()\n",
    "    playerdata = rawdata['history']\n",
    "    for fixture in playerdata:\n",
    "        playerdict = fixture\n",
    "        playerdict['player_id'] = playerid\n",
    "        dfcurr = dict_to_df(playerdict)\n",
    "        df = pd.concat([df, dfcurr], axis=0)"
   ]
  },
  {
   "cell_type": "code",
   "execution_count": null,
   "metadata": {},
   "outputs": [],
   "source": [
    "#Saving to csv files\n",
    "df.to_csv('FPL-Stats-Players-AllRounds.csv', index=False)\n",
    "dfplaya.to_csv('FPL-AllPlayerInfo.csv', index=False)"
   ]
  },
  {
   "cell_type": "code",
   "execution_count": 146,
   "metadata": {
    "scrolled": true
   },
   "outputs": [],
   "source": []
  },
  {
   "cell_type": "code",
   "execution_count": 148,
   "metadata": {},
   "outputs": [],
   "source": []
  },
  {
   "cell_type": "code",
   "execution_count": 149,
   "metadata": {},
   "outputs": [],
   "source": []
  },
  {
   "cell_type": "code",
   "execution_count": 152,
   "metadata": {},
   "outputs": [],
   "source": []
  },
  {
   "cell_type": "code",
   "execution_count": null,
   "metadata": {
    "collapsed": true
   },
   "outputs": [],
   "source": []
  },
  {
   "cell_type": "code",
   "execution_count": null,
   "metadata": {},
   "outputs": [],
   "source": []
  },
  {
   "cell_type": "code",
   "execution_count": null,
   "metadata": {},
   "outputs": [],
   "source": []
  },
  {
   "cell_type": "code",
   "execution_count": null,
   "metadata": {
    "collapsed": true
   },
   "outputs": [],
   "source": []
  }
 ],
 "metadata": {
  "kernelspec": {
   "display_name": "Python 2",
   "language": "python",
   "name": "python2"
  },
  "language_info": {
   "codemirror_mode": {
    "name": "ipython",
    "version": 2
   },
   "file_extension": ".py",
   "mimetype": "text/x-python",
   "name": "python",
   "nbconvert_exporter": "python",
   "pygments_lexer": "ipython2",
   "version": "2.7.13"
  }
 },
 "nbformat": 4,
 "nbformat_minor": 2
}
